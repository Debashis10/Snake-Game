{
  "nbformat": 4,
  "nbformat_minor": 0,
  "metadata": {
    "colab": {
      "name": "Untitled7.ipynb",
      "provenance": [],
      "authorship_tag": "ABX9TyOTK7cFDaQfG4Zi1gkviSXZ",
      "include_colab_link": true
    },
    "kernelspec": {
      "name": "python3",
      "display_name": "Python 3"
    }
  },
  "cells": [
    {
      "cell_type": "markdown",
      "metadata": {
        "id": "view-in-github",
        "colab_type": "text"
      },
      "source": [
        "<a href=\"https://colab.research.google.com/github/Debashis10/Snake-Game/blob/master/Untitled7.ipynb\" target=\"_parent\"><img src=\"https://colab.research.google.com/assets/colab-badge.svg\" alt=\"Open In Colab\"/></a>"
      ]
    },
    {
      "cell_type": "code",
      "metadata": {
        "id": "6EJ_RoYjg_-b",
        "colab_type": "code",
        "colab": {}
      },
      "source": [
        "import random\n",
        "\n",
        "def generateRandomNumber():\n",
        "  randomNumber=random.randint(1,3)\n",
        "  return randomNumber\n",
        "\n",
        "def getComputerChoice( randomNumber ):\n",
        "  if randomNumber==1:\n",
        "    computerChoice=\"rock\"\n",
        "  elif randomNumber==2:\n",
        "    computerChoice=\"paper\"\n",
        "  elif randomNumber==3:\n",
        "    computerChoice=\"scissor\"\n",
        "  return computerChoice\n",
        "\n",
        "def getUserChoice():\n",
        "  userChoice=input(\"please enter your choice: \")\n",
        "  return userChoice\n",
        "\n",
        "def determineWinner( computerChoice,userChoice ):\n",
        "  rockMessage=\"the rock smashes the scissor\"\n",
        "  scissorMessage=\"scissor cuts paper\"\n",
        "  paperMessage=\"paper wrapss rock\"\n",
        "  winner=\"no winner\"\n",
        "  message=\"\"\n",
        "  \n",
        "  if computerChoice==\"rock\" and userchoice==\"scissor\":\n",
        "    winner=\"Computer\"\n",
        "    message=rockMessage\n",
        "  elif computerChoice==\"scissor\" and userChoice==\"rock\":\n",
        "    winner=\"You\"\n",
        "    message=rockmessage\n",
        "\n",
        "  if computerChoice==\"scissors\" and userchoice==\"paper\":\n",
        "    winner=\"Computer\"\n",
        "    message=scissorMessage\n",
        "  elif computerChoice==\"paper\" and userChoice==\"scissor\":\n",
        "    winner=\"You\"\n",
        "    message=scissormessage\n",
        "\n",
        "  if computerChoice==\"paper\" and userchoice==\"rock\":\n",
        "    winner=\"Computer\"\n",
        "    message=rockMessage\n",
        "  elif computerChoice==\"rock\" and userChoice==\"paper\":\n",
        "    winner=\"You\"\n",
        "    message=rockmessage\n",
        "  \n",
        "  return winner, message\n",
        "\n",
        "def startAgain():\n",
        "  randomNumber=generateRandomNumber()\n",
        "  computerChoice=getComputerChoice( randomNumber )\n",
        "  userChoice=getUserChoice()\n",
        "  print( \"The Computer chose\", computerChoice )\n",
        "  winner, message=determinewinner( computerChoice, userChoice )\n",
        "\n",
        "  if winner != \"no winner\":\n",
        "    print( winner, \"won(\", message, \")\" )\n",
        "\n",
        "  return winner\n",
        "  \n",
        "def main():\n",
        "  randomNumber=generateRandomNumber()\n",
        "  computerChoice=getComputerChoice( randomNumber )\n",
        "  userChoice=getUserChoice()\n",
        "  print( \"The computer chose \",computerChoice )\n",
        "  winner, message=determineWinner( computerChoice, userchoice )\n",
        "\n",
        "  if winner!= \"no winner\":\n",
        "    print( winner, \"won(\", message, \")\" )\n",
        "\n",
        "  while winner==\"no winner\":\n",
        "      winner=startAgain()\n",
        "\n",
        "\n",
        "  \n",
        "\n",
        "  \n",
        "\n"
      ],
      "execution_count": 0,
      "outputs": []
    }
  ]
}